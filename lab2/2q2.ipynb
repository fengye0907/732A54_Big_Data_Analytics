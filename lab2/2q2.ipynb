{
 "cells": [
  {
   "cell_type": "code",
   "execution_count": 3,
   "metadata": {},
   "outputs": [
    {
     "name": "stdout",
     "output_type": "stream",
     "text": [
      "+----+-----+-----+\n",
      "|year|month|count|\n",
      "+----+-----+-----+\n",
      "|2014|   05|    4|\n",
      "|1955|   10|    2|\n",
      "|2014|   07|    2|\n",
      "|1960|   07|    1|\n",
      "|1960|   06|    1|\n",
      "|1960|   04|    1|\n",
      "|2013|   11|    1|\n",
      "|1956|   09|    1|\n",
      "|1957|   10|    1|\n",
      "|1957|   06|    1|\n",
      "|1959|   07|    1|\n",
      "|1958|   06|    1|\n",
      "|2014|   11|    1|\n",
      "|1957|   04|    1|\n",
      "|1958|   09|    1|\n",
      "|1956|   05|    1|\n",
      "|1955|   09|    1|\n",
      "|1957|   07|    1|\n",
      "|1956|   06|    1|\n",
      "|1958|   07|    1|\n",
      "+----+-----+-----+\n",
      "only showing top 20 rows\n",
      "\n"
     ]
    }
   ],
   "source": [
    "from pyspark import SparkContext\n",
    "from pyspark.sql import SQLContext, Row\n",
    "\n",
    "# sc.stop()\n",
    "sc = SparkContext()\n",
    "sqlContext = SQLContext(sc)\n",
    "\n",
    "rdd = sc.textFile(\"temperature-readings-tiny.csv\")\n",
    "parts = rdd.map(lambda l: l.split(\";\"))\n",
    "df = parts.map(lambda p: Row(year=p[1].split(\"-\")[0], month=p[1].split(\"-\")[1], value=float(p[3]),station=int(p[0]) ))\n",
    "df = sqlContext.createDataFrame(df)\n",
    "df.registerTempTable(\"t\")\n",
    "\n",
    "df1 = sqlContext.sql(\"\"\"SELECT DISTINCT year, month, station FROM t WHERE year BETWEEN 1950 AND 2014 AND value>=10.0\"\"\")\n",
    "df1.registerTempTable(\"larger\")\n",
    "\n",
    "c = sqlContext.sql(\"\"\"SELECT year, month, COUNT(station) as count FROM larger GROUP BY year, month ORDER BY count DESC\"\"\")\n",
    "# c.show()"
   ]
  }
 ],
 "metadata": {
  "kernelspec": {
   "display_name": "Python 3",
   "language": "python",
   "name": "python3"
  },
  "language_info": {
   "codemirror_mode": {
    "name": "ipython",
    "version": 3
   },
   "file_extension": ".py",
   "mimetype": "text/x-python",
   "name": "python",
   "nbconvert_exporter": "python",
   "pygments_lexer": "ipython3",
   "version": "3.7.3"
  }
 },
 "nbformat": 4,
 "nbformat_minor": 2
}
