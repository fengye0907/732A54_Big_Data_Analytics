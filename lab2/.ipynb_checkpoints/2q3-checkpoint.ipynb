{
 "cells": [
  {
   "cell_type": "code",
   "execution_count": 1,
   "metadata": {},
   "outputs": [
    {
     "name": "stdout",
     "output_type": "stream",
     "text": [
      "+----+-----+-------+---------+\n",
      "|year|month|station|avg_value|\n",
      "+----+-----+-------+---------+\n",
      "|2014|   05| 102150|     50.0|\n",
      "|2014|   07| 102160|     34.5|\n",
      "|2014|   05| 102130|     32.0|\n",
      "|2014|   07| 102170|     19.7|\n",
      "|1960|   06| 102190|     15.7|\n",
      "|2014|   06| 102170|     14.4|\n",
      "|1960|   07| 102190|     14.2|\n",
      "|2014|   08| 102170|     13.9|\n",
      "|1960|   08| 102190|     13.4|\n",
      "|2014|   05| 102160|     11.5|\n",
      "|1960|   05| 102190|     10.8|\n",
      "|2014|   05| 102170|     10.8|\n",
      "|1961|   05| 102190|     10.6|\n",
      "|1960|   09| 102190|      9.4|\n",
      "|2014|   09| 102170|      8.6|\n",
      "|2014|   10| 102170|      7.1|\n",
      "|2014|   04| 102170|      4.8|\n",
      "|1961|   04| 102190|      4.5|\n",
      "|1961|   03| 102190|      2.7|\n",
      "|2014|   11| 102170|      2.5|\n",
      "+----+-----+-------+---------+\n",
      "only showing top 20 rows\n",
      "\n"
     ]
    }
   ],
   "source": [
    "from pyspark import SparkContext\n",
    "from pyspark.sql import SQLContext, Row\n",
    "from pyspark.sql import functions as F\n",
    "\n",
    "# sc.stop()\n",
    "sc = SparkContext()\n",
    "sqlContext = SQLContext(sc)\n",
    "\n",
    "rdd = sc.textFile(\"temperature-readings-tiny.csv\")\n",
    "parts = rdd.map(lambda l: l.split(\";\"))\n",
    "df = parts.map(lambda p: Row(year=p[1].split(\"-\")[0], month=p[1].split(\"-\")[1], value=float(p[3]),station=int(p[0]) ))\n",
    "df = sqlContext.createDataFrame(df)\n",
    "df.registerTempTable(\"tempReadings\")\n",
    "\n",
    "df1 = df.filter(df.year.between(1960,2014))\n",
    "df1 = df1.groupBy(\"year\",\"month\",\"station\").agg({\"value\":\"avg\"})\n",
    "df1 = df1.select(\"year\",\"month\",\"station\", F.bround(\"avg(value)\", 1).alias('avg_value'))\n",
    "df1 = df1.sort(df1.avg_value.desc())\n",
    "df1.show()\n",
    "\n",
    "rdd1 = df1.rdd\n",
    "rdd1.saveAsTextFile(\"./results2/2q3\")"
   ]
  }
 ],
 "metadata": {
  "kernelspec": {
   "display_name": "Python 3",
   "language": "python",
   "name": "python3"
  },
  "language_info": {
   "codemirror_mode": {
    "name": "ipython",
    "version": 3
   },
   "file_extension": ".py",
   "mimetype": "text/x-python",
   "name": "python",
   "nbconvert_exporter": "python",
   "pygments_lexer": "ipython3",
   "version": "3.7.3"
  }
 },
 "nbformat": 4,
 "nbformat_minor": 2
}
