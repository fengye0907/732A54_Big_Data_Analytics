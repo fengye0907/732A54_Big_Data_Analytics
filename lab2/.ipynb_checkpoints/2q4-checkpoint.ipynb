{
 "cells": [
  {
   "cell_type": "code",
   "execution_count": 9,
   "metadata": {},
   "outputs": [
    {
     "name": "stdout",
     "output_type": "stream",
     "text": [
      "+-------+----+-----+\n",
      "|station|temp| prec|\n",
      "+-------+----+-----+\n",
      "| 102170|29.1|101.0|\n",
      "+-------+----+-----+\n",
      "\n"
     ]
    }
   ],
   "source": [
    "from pyspark import SparkContext\n",
    "from pyspark.sql import SQLContext, Row\n",
    "from pyspark.sql import functions as F\n",
    "\n",
    "sc.stop()\n",
    "\n",
    "sc = SparkContext()\n",
    "sqlContext = SQLContext(sc)\n",
    "\n",
    "rdd = sc.textFile(\"temperature-readings-tiny.csv\")\n",
    "parts = rdd.map(lambda l: l.split(\";\"))\n",
    "df = parts.map(lambda p: Row(date=p[1].split(\"-\"), temp=float(p[3]),station=int(p[0]) ))\n",
    "df1 = sqlContext.createDataFrame(df)\n",
    "df1.registerTempTable(\"tempReadings\")\n",
    "\n",
    "rdd = sc.textFile(\"precipitation-readings-tiny.csv\")\n",
    "parts = rdd.map(lambda l: l.split(\";\"))\n",
    "df = parts.map(lambda p: Row(date=p[1].split(\"-\"), prec=float(p[3]),station=int(p[0]) ))\n",
    "df2 = sqlContext.createDataFrame(df)\n",
    "df2.registerTempTable(\"precReadings\")\n",
    "\n",
    "df1 = df1.groupBy(\"station\").max(\"temp\").withColumnRenamed(\"max(temp)\",\"temp\")\n",
    "\n",
    "df2 = df2.groupBy(\"station\",\"date\").sum(\"prec\").withColumnRenamed(\"sum(prec)\",\"prec\")\n",
    "df2 = df2.groupBy(\"station\").max(\"prec\").withColumnRenamed(\"max(prec)\",\"prec\")\n",
    "\n",
    "df_final = df1.join(df2, \"station\", \"inner\").select(df1.station, df1.temp, df2.prec)\n",
    "df_final = df_final.filter(df_final.temp.between(25,30) & df_final.prec.between(100,200))\n",
    "df_final.show()\n"
   ]
  }
 ],
 "metadata": {
  "kernelspec": {
   "display_name": "Python 3",
   "language": "python",
   "name": "python3"
  },
  "language_info": {
   "codemirror_mode": {
    "name": "ipython",
    "version": 3
   },
   "file_extension": ".py",
   "mimetype": "text/x-python",
   "name": "python",
   "nbconvert_exporter": "python",
   "pygments_lexer": "ipython3",
   "version": "3.7.3"
  }
 },
 "nbformat": 4,
 "nbformat_minor": 2
}
