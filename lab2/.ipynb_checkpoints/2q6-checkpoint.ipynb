{
 "cells": [
  {
   "cell_type": "code",
   "execution_count": 47,
   "metadata": {
    "scrolled": true
   },
   "outputs": [
    {
     "name": "stdout",
     "output_type": "stream",
     "text": [
      "+----+-----+-------------------+\n",
      "|year|month|         difference|\n",
      "+----+-----+-------------------+\n",
      "|2014|   12| -1.838561940815072|\n",
      "|2014|   11| 2.9202591036414574|\n",
      "|2014|   10| 2.6506731357636166|\n",
      "|2014|   09|-0.9561130563336455|\n",
      "|2014|   08|0.34340513857551613|\n",
      "|2014|   07| 0.7707767430662145|\n",
      "|2014|   06| 0.5867637800883099|\n",
      "|2014|   05| 1.1918083405986657|\n",
      "|2014|   04| 1.8507542360173952|\n",
      "|2014|   03|  3.886612865295541|\n",
      "|2014|   02| 3.4851983771565043|\n",
      "|2014|   01| 3.1917645844887845|\n",
      "|2013|   12|  4.672728381765573|\n",
      "|2013|   11| 0.3435924369747903|\n",
      "|1990|   07| 2.6110993237113753|\n",
      "|1990|   02|   62.8101983771565|\n",
      "|1970|   07| 16.111099323711375|\n",
      "|1970|   02| 22.810198377156503|\n",
      "|1961|   05| 1.0272486195873274|\n",
      "|1961|   04|  1.581865347128507|\n",
      "+----+-----+-------------------+\n",
      "only showing top 20 rows\n",
      "\n"
     ]
    }
   ],
   "source": [
    "from pyspark import SparkContext\n",
    "from pyspark.sql import SQLContext, Row\n",
    "\n",
    "sc.stop()\n",
    "sc = SparkContext()\n",
    "sqlContext = SQLContext(sc)\n",
    "rdd = sc.textFile(\"temperature-readings-tiny.csv\")\n",
    "parts = rdd.map(lambda l: l.split(\";\"))\n",
    "df = parts.map(lambda p: Row(year=p[1].split(\"-\")[0], \\\n",
    "\t\t\tmonth=p[1].split(\"-\")[1], temp=float(p[3]),station=int(p[0]) ))\n",
    "df = sqlContext.createDataFrame(df)\n",
    "df.registerTempTable(\"precReadings\")\n",
    "rdd = sc.textFile(\"stations.csv\")\n",
    "parts = rdd.map(lambda l: l.split(\";\"))\n",
    "dfs = parts.map(lambda p: Row(station=int(p[0]) ))\n",
    "dfs = sqlContext.createDataFrame(dfs)\n",
    "dfs.registerTempTable(\"stations\")\n",
    "\n",
    "dfavg = df.groupBy(\"year\",\"month\",\"station\").avg(\"temp\").withColumnRenamed(\"avg(temp)\",\"temp\")\n",
    "dfavg = dfavg.join(dfs, \"station\", \"inner\")\n",
    "dfavg = dfavg.groupBy(\"year\",\"month\").avg(\"temp\").withColumnRenamed(\"avg(temp)\",\"temp\")\n",
    "\n",
    "df1 = dfavg.filter(df.year.between(1950, 2014))\n",
    "df2 = dfavg.filter(df.year.between(1950, 1980))\n",
    "df2 = df2.groupBy(\"month\").avg(\"temp\").withColumnRenamed(\"avg(temp)\",\"temp\")\n",
    "\n",
    "df1 = df1.sort(df1.year.desc(), df1.month.desc())\n",
    "df2 = df2.sort(df2.month.desc())\n",
    "\n",
    "ave1 = df1.rdd\n",
    "ave2 = df2.rdd\n",
    "final = ave1.collect()\n",
    "final = [list(x) for x in final]  # change Row to list\n",
    "ave2 = dict(ave2.collect())\n",
    "\n",
    "for i in range(len(final)):\n",
    "    month = final[i][1]\n",
    "    final[i][2] -= ave2[month]\n",
    "    \n",
    "lll = sc.parallelize(final)   # list to rdd\n",
    "sqlContext = SQLContext(sc)   # rdd  to DF\n",
    "df = sqlContext.createDataFrame(lll) \n",
    "df = df.sort(df._1.desc(), df._2.desc()).withColumnRenamed(\"_1\",\"year\") \\\n",
    "\t\t\t\t\t\t\t\t\t\t.withColumnRenamed(\"_2\",\"month\")\\\n",
    "\t\t\t\t\t\t\t\t\t\t.withColumnRenamed(\"_3\",\"difference\")\n",
    "df.show()\n",
    "# fff = df.rdd   # DF to rdd\n",
    "# fff.saveAsTextFile(\"./results2/2q6\") \n"
   ]
  },
  {
   "cell_type": "code",
   "execution_count": 48,
   "metadata": {},
   "outputs": [
    {
     "data": {
      "text/plain": [
       "{'12': -3.9630509624107337,\n",
       " '11': -0.39525910364145694,\n",
       " '10': 4.45577847713961,\n",
       " '09': 9.541113056333645,\n",
       " '08': 13.525949700134163,\n",
       " '07': 18.888900676288625,\n",
       " '06': 13.856569553245023,\n",
       " '05': 9.564643272304563,\n",
       " '04': 2.925912430649273,\n",
       " '03': -1.989838671747154,\n",
       " '02': -2.8101983771565044,\n",
       " '01': -7.298216197392009}"
      ]
     },
     "execution_count": 48,
     "metadata": {},
     "output_type": "execute_result"
    }
   ],
   "source": [
    "ave2"
   ]
  }
 ],
 "metadata": {
  "kernelspec": {
   "display_name": "Python 3",
   "language": "python",
   "name": "python3"
  },
  "language_info": {
   "codemirror_mode": {
    "name": "ipython",
    "version": 3
   },
   "file_extension": ".py",
   "mimetype": "text/x-python",
   "name": "python",
   "nbconvert_exporter": "python",
   "pygments_lexer": "ipython3",
   "version": "3.7.3"
  }
 },
 "nbformat": 4,
 "nbformat_minor": 2
}
