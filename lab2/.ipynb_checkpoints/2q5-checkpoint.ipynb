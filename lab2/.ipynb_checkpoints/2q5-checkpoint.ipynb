{
 "cells": [
  {
   "cell_type": "code",
   "execution_count": 34,
   "metadata": {},
   "outputs": [
    {
     "name": "stdout",
     "output_type": "stream",
     "text": [
      "[Row(year='1996', month='10', avg(prec)=8.0)]\n"
     ]
    }
   ],
   "source": [
    "from pyspark import SparkContext\n",
    "from pyspark.sql import SQLContext, Row\n",
    "sc.stop()\n",
    "sc = SparkContext()\n",
    "sqlContext = SQLContext(sc)\n",
    "\n",
    "rdd = sc.textFile(\"precipitation-readings-tiny.csv\")\n",
    "parts = rdd.map(lambda l: l.split(\";\"))\n",
    "df = parts.map(lambda p: Row(year=p[1].split(\"-\")[0], month=p[1].split(\"-\")[1], prec=float(p[3]),station=int(p[0]) ))\n",
    "df = sqlContext.createDataFrame(df)\n",
    "df.registerTempTable(\"precReadings\")\n",
    "\n",
    "rdd = sc.textFile(\"stations-Ostergotland.csv\")\n",
    "parts = rdd.map(lambda l: l.split(\";\"))\n",
    "df1 = parts.map(lambda p: Row(station=int(p[0]) ))\n",
    "df1 = sqlContext.createDataFrame(df1)\n",
    "df1.registerTempTable(\"stations\")\n",
    "\n",
    "df = df.filter(df.year.between(1933, 2016))\n",
    "dfavg = df.groupBy(\"year\",\"month\",\"station\").sum(\"prec\").withColumnRenamed(\"sum(prec)\",\"prec\").sort(df.year.desc(), df.month.desc())\n",
    "df1 = df1.join(dfavg, [\"station\"], \"inner\").select(dfavg.prec, dfavg.year, dfavg.month, df1.station)\n",
    "df1 = df1.groupBy(\"year\",\"month\").avg(\"prec\").withColumnRenamed(\"avg(temp)\",\"temp\").sort(df1.year.desc(), df1.month.desc())\n",
    "\n",
    "monthAve = df1.rdd\n",
    "print(monthAve.take(10))\n",
    "# monthAve.saveAsTextFile(\"./results2/2q5\")"
   ]
  }
 ],
 "metadata": {
  "kernelspec": {
   "display_name": "Python 3",
   "language": "python",
   "name": "python3"
  },
  "language_info": {
   "codemirror_mode": {
    "name": "ipython",
    "version": 3
   },
   "file_extension": ".py",
   "mimetype": "text/x-python",
   "name": "python",
   "nbconvert_exporter": "python",
   "pygments_lexer": "ipython3",
   "version": "3.7.3"
  }
 },
 "nbformat": 4,
 "nbformat_minor": 2
}
