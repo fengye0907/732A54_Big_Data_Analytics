{
 "cells": [
  {
   "cell_type": "code",
   "execution_count": 3,
   "metadata": {},
   "outputs": [
    {
     "name": "stdout",
     "output_type": "stream",
     "text": [
      "+----+-------+-----+\n",
      "|year|station|value|\n",
      "+----+-------+-----+\n",
      "|2014| 102150| 50.0|\n",
      "|1955| 102160| 30.0|\n",
      "|1960| 102190| 29.0|\n",
      "|1959| 102190| 28.2|\n",
      "|1958| 102190| 28.1|\n",
      "|1956| 102190| 26.0|\n",
      "|1957| 102190| 25.2|\n",
      "|1961| 102190| 19.0|\n",
      "|2013| 102170| 10.2|\n",
      "+----+-------+-----+\n",
      "\n"
     ]
    }
   ],
   "source": [
    "from pyspark import SparkContext\n",
    "from pyspark.sql import SQLContext, Row\n",
    "from pyspark.sql import functions as F\n",
    "\n",
    "# sc.stop()\n",
    "\n",
    "sc = SparkContext()\n",
    "sqlContext = SQLContext(sc)\n",
    "\n",
    "rdd = sc.textFile(\"temperature-readings-tiny.csv\")\n",
    "parts = rdd.map(lambda l: l.split(\";\"))\n",
    "df = parts.map(lambda p: Row(year=p[1].split(\"-\")[0], value=float(p[3]),station=int(p[0]) ))\n",
    "\n",
    "df = sqlContext.createDataFrame(df)\n",
    "df.registerTempTable(\"tempReadings\")\n",
    "\n",
    "df1 = df.filter(df.year.between(1950,2014))S\n",
    "df2 = df.groupBy(\"year\",).agg({\"value\":\"max\"}).withColumnRenamed(\"max(value)\",\"value\")\n",
    "df2 = df2.join(df1, [\"year\",\"value\"],\"inner\").select(\"year\",\"station\",\"value\").sort(df2.value.desc())\n",
    "\n",
    "df3 = df.groupBy(\"year\",).agg({\"value\":\"min\"}).withColumnRenamed(\"min(value)\",\"value\")\n",
    "df3 = df3.join(df1, [\"year\",\"value\"],\"inner\").select(\"year\",\"station\",\"value\").sort(df3.value.desc())\n",
    "\n",
    "df2.show()"
   ]
  },
  {
   "cell_type": "code",
   "execution_count": 4,
   "metadata": {},
   "outputs": [
    {
     "data": {
      "text/plain": [
       "[Row(year='2013', station=102170, value=-13.3),\n",
       " Row(year='1957', station=102190, value=-19.9),\n",
       " Row(year='1959', station=102190, value=-23.2),\n",
       " Row(year='1961', station=102190, value=-23.5),\n",
       " Row(year='2014', station=102170, value=-24.3),\n",
       " Row(year='1955', station=102190, value=-26.2),\n",
       " Row(year='1958', station=102190, value=-27.9),\n",
       " Row(year='1960', station=102190, value=-28.3),\n",
       " Row(year='1956', station=102190, value=-30.0)]"
      ]
     },
     "execution_count": 4,
     "metadata": {},
     "output_type": "execute_result"
    }
   ],
   "source": [
    "rdd2 = df2.rdd\n",
    "rdd2.take(10)\n",
    "# rdd2.saveAsTextFile(\"max_temperatureSorted\")\n",
    "\n",
    "rdd3 = df3.rdd\n",
    "rdd3.take(10)\n",
    "# rdde.saveAsTextFile(\"min_temperatureSorted\")"
   ]
  }
 ],
 "metadata": {
  "kernelspec": {
   "display_name": "Python 3",
   "language": "python",
   "name": "python3"
  },
  "language_info": {
   "codemirror_mode": {
    "name": "ipython",
    "version": 3
   },
   "file_extension": ".py",
   "mimetype": "text/x-python",
   "name": "python",
   "nbconvert_exporter": "python",
   "pygments_lexer": "ipython3",
   "version": "3.7.3"
  }
 },
 "nbformat": 4,
 "nbformat_minor": 2
}
