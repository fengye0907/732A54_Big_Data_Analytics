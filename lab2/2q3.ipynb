{
 "cells": [
  {
   "cell_type": "code",
   "execution_count": 5,
   "metadata": {},
   "outputs": [
    {
     "name": "stdout",
     "output_type": "stream",
     "text": [
      "+----+-----+-------+------------------+\n",
      "|year|month|station|         avg_value|\n",
      "+----+-----+-------+------------------+\n",
      "|2014|   05| 102150|              50.0|\n",
      "|2014|   07| 102160|              34.5|\n",
      "|2014|   05| 102130|              32.0|\n",
      "|2014|   07| 102170| 19.65967741935484|\n",
      "|1960|   06| 102190|15.658474576271187|\n",
      "|2014|   06| 102170|14.443333333333333|\n",
      "|1960|   07| 102190|14.205645161290326|\n",
      "|2014|   08| 102170|13.869354838709679|\n",
      "|1960|   08| 102190|13.409999999999995|\n",
      "|2014|   05| 102160|              11.5|\n",
      "|1960|   05| 102190|10.768548387096773|\n",
      "|2014|   05| 102170|10.756451612903229|\n",
      "|1961|   05| 102190| 10.59189189189189|\n",
      "|1960|   09| 102190| 9.368067226890751|\n",
      "|2014|   09| 102170| 8.584999999999999|\n",
      "|2014|   10| 102170| 7.106451612903227|\n",
      "|2014|   04| 102170| 4.776666666666668|\n",
      "|1961|   04| 102190|  4.50777777777778|\n",
      "|1961|   03| 102190| 2.708602150537637|\n",
      "|2014|   11| 102170|2.5250000000000004|\n",
      "+----+-----+-------+------------------+\n",
      "only showing top 20 rows\n",
      "\n"
     ]
    }
   ],
   "source": [
    "from pyspark import SparkContext\n",
    "from pyspark.sql import SQLContext, Row\n",
    "from pyspark.sql import functions as F\n",
    "\n",
    "sc.stop()\n",
    "sc = SparkContext()\n",
    "sqlContext = SQLContext(sc)\n",
    "\n",
    "rdd = sc.textFile(\"temperature-readings-tiny.csv\")\n",
    "parts = rdd.map(lambda l: l.split(\";\"))\n",
    "df = parts.map(lambda p: Row(year=p[1].split(\"-\")[0], month=p[1].split(\"-\")[1], value=float(p[3]),station=int(p[0]) ))\n",
    "df = sqlContext.createDataFrame(df)\n",
    "df.registerTempTable(\"tempReadings\")\n",
    "\n",
    "df1 = df.filter(df.year.between(1960,2014))\n",
    "df1 = df1.groupBy(\"year\",\"month\",\"station\").agg({\"value\":\"avg\"})\n",
    "df1 = df1.select(\"year\",\"month\",\"station\", \"avg(value)\").withColumnRenamed(\"avg(value)\",\"avg_value\")\n",
    "df1 = df1.sort(df1.avg_value.desc())\n",
    "df1.show()\n",
    "\n",
    "# rdd1 = df1.rdd\n",
    "# rdd1.saveAsTextFile(\"./results2/2q3\")"
   ]
  }
 ],
 "metadata": {
  "kernelspec": {
   "display_name": "Python 3",
   "language": "python",
   "name": "python3"
  },
  "language_info": {
   "codemirror_mode": {
    "name": "ipython",
    "version": 3
   },
   "file_extension": ".py",
   "mimetype": "text/x-python",
   "name": "python",
   "nbconvert_exporter": "python",
   "pygments_lexer": "ipython3",
   "version": "3.7.3"
  }
 },
 "nbformat": 4,
 "nbformat_minor": 2
}
