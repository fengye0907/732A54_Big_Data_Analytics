{
 "cells": [
  {
   "cell_type": "code",
   "execution_count": 9,
   "metadata": {},
   "outputs": [
    {
     "name": "stdout",
     "output_type": "stream",
     "text": [
      "[('1996', '10', 8.0)]\n"
     ]
    }
   ],
   "source": [
    "from pyspark import SparkContext\n",
    "# sc.stop()\n",
    "sc = SparkContext(appName=\"exercise\")\n",
    "    \n",
    "precipitation_file=sc.textFile(\"precipitation-readings-tiny.csv\")\n",
    "linesp = precipitation_file.map(lambda line:line.split(\";\"))\n",
    "\n",
    "stations_Ostergotland=sc.textFile(\"stations-Ostergotland.csv\")\n",
    "liness = stations_Ostergotland.map(lambda line:line.split(\";\"))\n",
    "\n",
    "######## the list of all the stations\n",
    "stations = liness.map(lambda x:x[0]).distinct().collect()   # by collect(), output is a list\n",
    "# print(*stations)\n",
    "\n",
    "######## the daily-temperatures we need for each stations in list\n",
    "daily_precipitation = linesp.map(lambda x:((x[1][0:7],x[0]),float(x[3])))\n",
    "daily_precipitation = daily_precipitation.filter(lambda x: int(x[0][0][0:4])>=1996 \\\n",
    "                                                 and int(x[0][0][0:4])<=2016 and str(x[0][1]) in stations)\n",
    "\n",
    "######## the month-temperatures we need for each stations\n",
    "month_precipitationSum = daily_precipitation.reduceByKey(lambda v1,v2:v1+v2)\n",
    "month_precipitationSum = month_precipitationSum.map(lambda x:(x[0][1],(x[0][0],x[1])) )\n",
    "\n",
    "monthPrecValue = month_precipitationSum.map(lambda x:(x[1]))\n",
    "monthPrecValue = monthPrecValue.reduceByKey(lambda v1,v2:v1+v2)\n",
    "\n",
    "########## # of date\n",
    "dates = month_precipitationSum.map(lambda x:(x[1][0],1))\n",
    "dates = dates.reduceByKey(lambda v1,v2:v1+v2)\n",
    "\n",
    "########## average\n",
    "monthAve = monthPrecValue.union(dates).reduceByKey(lambda v1,v2:v1/v2)\n",
    "monthAve = monthAve.map(lambda x: (x[0][0:4],x[0][5:7],round(x[1],2)))\n",
    "monthAve = monthAve.sortBy(lambda x: (x[0],[1]), ascending = False)\n",
    "\n",
    "# print(monthAve.take(10))\n",
    "monthAve.saveAsTextFile(\"./results1/1q5\")"
   ]
  }
 ],
 "metadata": {
  "kernelspec": {
   "display_name": "Python 3",
   "language": "python",
   "name": "python3"
  },
  "language_info": {
   "codemirror_mode": {
    "name": "ipython",
    "version": 3
   },
   "file_extension": ".py",
   "mimetype": "text/x-python",
   "name": "python",
   "nbconvert_exporter": "python",
   "pygments_lexer": "ipython3",
   "version": "3.7.3"
  }
 },
 "nbformat": 4,
 "nbformat_minor": 2
}
