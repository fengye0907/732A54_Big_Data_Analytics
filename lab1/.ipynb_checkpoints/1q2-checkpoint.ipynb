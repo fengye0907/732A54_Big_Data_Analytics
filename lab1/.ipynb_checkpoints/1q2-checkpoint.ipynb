{
 "cells": [
  {
   "cell_type": "code",
   "execution_count": 1,
   "metadata": {
    "scrolled": true
   },
   "outputs": [
    {
     "name": "stdout",
     "output_type": "stream",
     "text": [
      "('2014', '05', 4)\n",
      "('2014', '06', 1)\n",
      "('2014', '08', 1)\n",
      "('2014', '09', 1)\n",
      "('1955', '10', 2)\n",
      "('1956', '07', 1)\n",
      "('1956', '08', 1)\n",
      "('1957', '03', 1)\n",
      "('1957', '06', 1)\n",
      "('1957', '08', 1)\n"
     ]
    }
   ],
   "source": [
    "### Q2\n",
    "# sc.stop()\n",
    "from pyspark import SparkContext\n",
    "sc = SparkContext(appName=\"exercise\")\n",
    "\n",
    "# read csv file\n",
    "temperature_file=sc.textFile(\"temperature-readings-tiny.csv\")\n",
    "lines = temperature_file.map(lambda line:line.split(\";\"))\n",
    "\n",
    "# map necessary keys and values\n",
    "# (year-month, temperature), stationNumber\n",
    "year_temperature = lines.map(lambda x:(x[1][0:7],float(x[3]),x[0]))\n",
    "year_temperature = year_temperature.filter(lambda x: int(x[0][0:4])>=1950 and int(x[0][0:4])<=2014 and int(x[1])>=10)\n",
    "countsource1 = year_temperature.map(lambda x:(tuple([x[0],x[2]]),1))\n",
    "\n",
    "# if a station reported a reading above 10 degrees in some month, \n",
    "# then it appears only once in the count for that month.\n",
    "unique1 = countsource1.distinct()\n",
    "# print(*unique1.take(10), sep=\"\\n\")\n",
    "\n",
    "# year, month, #readings\n",
    "countsource2 = unique1.map(lambda x:(x[0][0],1))\n",
    "counts2 = countsource2.reduceByKey(lambda v1,v2:v1+v2)\n",
    "counts = counts2.map(lambda x:(x[0][0:4],x[0][5:7],x[1]))\n",
    "print(*counts.take(30),sep=\"\\n\")\n",
    "# counts.saveAsTextFile(\"counts\")"
   ]
  }
 ],
 "metadata": {
  "kernelspec": {
   "display_name": "Python 3",
   "language": "python",
   "name": "python3"
  },
  "language_info": {
   "codemirror_mode": {
    "name": "ipython",
    "version": 3
   },
   "file_extension": ".py",
   "mimetype": "text/x-python",
   "name": "python",
   "nbconvert_exporter": "python",
   "pygments_lexer": "ipython3",
   "version": "3.7.3"
  }
 },
 "nbformat": 4,
 "nbformat_minor": 2
}
