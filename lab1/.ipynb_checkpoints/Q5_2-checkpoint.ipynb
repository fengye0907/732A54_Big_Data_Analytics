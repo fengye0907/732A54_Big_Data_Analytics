{
 "cells": [
  {
   "cell_type": "code",
   "execution_count": 12,
   "metadata": {},
   "outputs": [
    {
     "name": "stdout",
     "output_type": "stream",
     "text": [
      "85490 85650 85390 85410 86470 86420 86350 86130 86090 85280 85240 85210 85180 84260 85630 85460 85450 86440 86340 86360 86370 86200 86330 87140 87150 85250 85270 85220 85040 85050 75520 85160 85600 85130\n"
     ]
    }
   ],
   "source": [
    "###Q5 final\n",
    "sc.stop()\n",
    "from pyspark import SparkContext\n",
    "sc = SparkContext(appName=\"exercise\")\n",
    "def max_temperature(a,b):\n",
    "    if a>=b:\n",
    "        return a\n",
    "    else:\n",
    "        return b\n",
    "    \n",
    "precipitation_file=sc.textFile(\"precipitation-readings-tiny.csv\")\n",
    "linesp = precipitation_file.map(lambda line:line.split(\";\"))\n",
    "\n",
    "stations_Ostergotland=sc.textFile(\"stations-Ostergotland.csv\")\n",
    "liness = stations_Ostergotland.map(lambda line:line.split(\";\"))\n",
    "\n",
    "######## the list of all the stations\n",
    "stations = liness.map(lambda x:x[0]).distinct().collect()   # by collect(), output is a list\n",
    "print(*stations)"
   ]
  },
  {
   "cell_type": "code",
   "execution_count": 34,
   "metadata": {},
   "outputs": [
    {
     "name": "stdout",
     "output_type": "stream",
     "text": [
      "(('1996-10', '84260'), 2.0)\n",
      "(('1996-10', '85630'), 4.0)\n",
      "(('1996-10', '85630'), 10.0)\n",
      "('84260', ('1996-10', 2.0))\n",
      "('85630', ('1996-10', 14.0))\n",
      "('1996-10', 16.0)\n",
      "('1996-10', 2)\n"
     ]
    }
   ],
   "source": [
    "######## the daily-temperatures we need for each stations in list\n",
    "daily_precipitation = linesp.map(lambda x:((x[1][0:7],x[0]),float(x[3])))\n",
    "daily_precipitation = daily_precipitation.filter(lambda x: int(x[0][0][0:4])>=1996 and int(x[0][0][0:4])<=2016 and str(x[0][1]) in stations)\n",
    "print(*daily_precipitation.take(10),sep=\"\\n\")\n",
    "\n",
    "######## the month-temperatures we need for each stations\n",
    "month_precipitationSum = daily_precipitation.reduceByKey(lambda v1,v2:v1+v2)\n",
    "month_precipitationSum = month_precipitationSum.map(lambda x:(x[0][1],(x[0][0],x[1])) )\n",
    "print(*month_precipitationSum.take(10),sep=\"\\n\")\n",
    "\n",
    "monthPrecValue = month_precipitationSum.map(lambda x:(x[1]))\n",
    "monthPrecValue = monthPrecValue.reduceByKey(lambda v1,v2:v1+v2)\n",
    "print(*monthPrecValue.take(2),sep=\"\\n\")\n",
    "\n",
    "########## # of dates (year-month)\n",
    "months = month_precipitationSum.map(lambda x:(x[1][0],1))\n",
    "months = months.reduceByKey(lambda v1,v2:v1+v2)\n",
    "print(*months.take(10),sep=\"\\n\")\n"
   ]
  },
  {
   "cell_type": "code",
   "execution_count": 36,
   "metadata": {},
   "outputs": [
    {
     "name": "stdout",
     "output_type": "stream",
     "text": [
      "('1996', '10', 8.0)\n"
     ]
    }
   ],
   "source": [
    "########## average\n",
    "monthAve = monthPrecValue.union(months).reduceByKey(lambda v1,v2:v1/v2)\n",
    "monthAve = monthAve.map(lambda x: (x[0][0:4],x[0][5:7],round(x[1],2)))\n",
    "print(*monthAve.take(10),sep=\"\\n\")\n",
    "\n",
    "# aveprec.saveAsTextFile(\"aveprec\")"
   ]
  }
 ],
 "metadata": {
  "kernelspec": {
   "display_name": "Python 3",
   "language": "python",
   "name": "python3"
  },
  "language_info": {
   "codemirror_mode": {
    "name": "ipython",
    "version": 3
   },
   "file_extension": ".py",
   "mimetype": "text/x-python",
   "name": "python",
   "nbconvert_exporter": "python",
   "pygments_lexer": "ipython3",
   "version": "3.7.3"
  }
 },
 "nbformat": 4,
 "nbformat_minor": 2
}
