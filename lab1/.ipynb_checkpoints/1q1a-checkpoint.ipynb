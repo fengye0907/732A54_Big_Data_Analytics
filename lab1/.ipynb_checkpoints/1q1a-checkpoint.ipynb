{
 "cells": [
  {
   "cell_type": "code",
   "execution_count": null,
   "metadata": {},
   "outputs": [],
   "source": [
    "from pyspark import SparkContext\n",
    "\n",
    "sc.stop()\n",
    "def max_temperature(a,b):\n",
    "    if a>=b:\n",
    "        return a\n",
    "    else:\n",
    "        return b\n",
    "def min_temperature(a,b):\n",
    "    if a>=b:\n",
    "        return b\n",
    "    else:\n",
    "        return a\n",
    "sc = SparkContext(appName=\"exercise\")\n",
    "\n",
    "# read csv file\n",
    "temperature_file=sc.textFile(\"temperature-readings-tiny.csv\")\n",
    "lines = temperature_file.map(lambda line:line.split(\";\"))\n",
    "# print(*lines.take(1000), sep='\\n')\n",
    "\n",
    "# all the temperatures from 1950 to 2014\n",
    "# make 'station number' and 'temperature' as a multi-value\n",
    "year_temperature = lines.map(lambda x:(x[1][0:4],(float(x[3]),int(x[0]))))\n",
    "year_temperature = year_temperature.filter(lambda x: int(x[0])>=1950 and int(x[0])<=2014)\n",
    "\n",
    "# reduce 'max_temperature' by key 'year', it will also work on value 'stations number'\n",
    "max_temperature = year_temperature.reduceByKey(max_temperature)\n",
    "max_temperatureSorted = max_temperature.sortBy(ascending = False, keyfunc=lambda k:k[1])\n",
    "# print(*max_temperatureSorted.take(64),sep=\"\\n\")\n",
    "# print('================================================')\n",
    "max_temperatureSorted.saveAsTextFile(\"max_temperatureSorted\")\n",
    "\n",
    "min_temperature = year_temperature.reduceByKey(min_temperature)\n",
    "min_temperatureSorted = min_temperature.sortBy(ascending = False, keyfunc=lambda k:k[1])\n",
    "# print(*min_temperatureSorted.take(64),sep=\"\\n\")\n",
    "min_temperatureSorted.saveAsTextFile(\"min_temperatureSorted\")\n"
   ]
  }
 ],
 "metadata": {
  "kernelspec": {
   "display_name": "Python 3",
   "language": "python",
   "name": "python3"
  },
  "language_info": {
   "codemirror_mode": {
    "name": "ipython",
    "version": 3
   },
   "file_extension": ".py",
   "mimetype": "text/x-python",
   "name": "python",
   "nbconvert_exporter": "python",
   "pygments_lexer": "ipython3",
   "version": "3.7.3"
  }
 },
 "nbformat": 4,
 "nbformat_minor": 2
}
