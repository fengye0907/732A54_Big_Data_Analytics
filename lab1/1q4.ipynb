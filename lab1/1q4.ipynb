{
 "cells": [
  {
   "cell_type": "code",
   "execution_count": 24,
   "metadata": {},
   "outputs": [],
   "source": [
    "###Q4 final\n",
    "from pyspark import SparkContext\n",
    "sc.stop()\n",
    "sc = SparkContext(appName=\"exercise\")\n",
    "\n",
    "precipitation_file=sc.textFile(\"precipitation-readings-tiny.csv\")\n",
    "linesp = precipitation_file.map(lambda line:line.split(\";\"))\n",
    "temperature_file=sc.textFile(\"temperature-readings-tiny.csv\")\n",
    "linest = temperature_file.map(lambda line:line.split(\";\"))\n",
    "\n",
    "temperatures = linest.map( lambda x:(str(x[0]),float(x[3])) )\n",
    "precipitations = linesp.map(lambda x:((x[0],x[1]),float(x[3])))\n",
    "stations_temperatures = temperatures.reduceByKey(lambda x,y: x if x>y else y)\n",
    "daily_precipitations = precipitations.reduceByKey(lambda x,y: x+y)\n",
    "# daily_precipitations = daily_precipitations.map(lambda x:(x[0][0],x[1]))\n",
    "# stations_precipitations = daily_precipitations.reduceByKey(lambda x,y: x if x>y else y)\n",
    "# stations = stations_precipitations.join(stations_temperatures)\n",
    "\n",
    "# stations = stations.filter(lambda x: x[1][0]>=100 and x[1][0]<=200 and x[1][1]>=25 and x[1][1]<=30)\n",
    "# station.saveAsTextFile(\"station\")"
   ]
  },
  {
   "cell_type": "code",
   "execution_count": 31,
   "metadata": {},
   "outputs": [
    {
     "data": {
      "text/plain": [
       "[('a', 2), ('b', 4)]"
      ]
     },
     "execution_count": 31,
     "metadata": {},
     "output_type": "execute_result"
    }
   ],
   "source": [
    "a = sc.parallelize([[\"a\",1],[\"a\",2],[\"b\",3],[\"b\",4]])\n",
    "a.reduceByKey(lambda x,y: x if x>y else y).take(2)"
   ]
  }
 ],
 "metadata": {
  "kernelspec": {
   "display_name": "Python 3",
   "language": "python",
   "name": "python3"
  },
  "language_info": {
   "codemirror_mode": {
    "name": "ipython",
    "version": 3
   },
   "file_extension": ".py",
   "mimetype": "text/x-python",
   "name": "python",
   "nbconvert_exporter": "python",
   "pygments_lexer": "ipython3",
   "version": "3.7.3"
  }
 },
 "nbformat": 4,
 "nbformat_minor": 2
}
