{
 "cells": [
  {
   "cell_type": "code",
   "execution_count": 85,
   "metadata": {},
   "outputs": [],
   "source": [
    "###Q5 final\n",
    "sc.stop()\n",
    "from pyspark import SparkContext\n",
    "sc = SparkContext(appName=\"exercise\")\n",
    "def max_temperature(a,b):\n",
    "    if a>=b:\n",
    "        return a\n",
    "    else:\n",
    "        return b\n",
    "    \n",
    "precipitation_file=sc.textFile(\"precipitation-readings-tiny.csv\")\n",
    "linesp = precipitation_file.map(lambda line:line.split(\";\"))\n",
    "\n",
    "stations_Ostergotland=sc.textFile(\"stations-Ostergotland.csv\")\n",
    "liness = stations_Ostergotland.map(lambda line:line.split(\";\"))\n",
    "\n",
    "# print(liness.take(10))"
   ]
  },
  {
   "cell_type": "code",
   "execution_count": 86,
   "metadata": {},
   "outputs": [
    {
     "name": "stdout",
     "output_type": "stream",
     "text": [
      "('84260', (('1996-10', 2.0), 1))\n",
      "('85630', (('1996-10', 4.0), 1))\n",
      "('1996-10', (6.0, 2))\n"
     ]
    }
   ],
   "source": [
    "######## the list of all the stations\n",
    "stationNum=liness .map(lambda x:(x[0],1))\n",
    "stationNum=stationNum.reduceByKey((lambda v1,v2:v1+v2))\n",
    "# print(*stationNum.take(10),sep=\"\\n\")\n",
    "\n",
    "######## the daily-temperatures we need for each stations\n",
    "year_precipitation = linesp.map(lambda x:(tuple([x[1][0:7],x[0]]),float(x[3])))\n",
    "year_precipitation = year_precipitation.filter(lambda x: int(x[0][0][0:4])>=1996 and int(x[0][0][0:4])<=2016)\n",
    "\n",
    "######## the month-temperatures we need for each stations\n",
    "month_precipitationSum = year_precipitation.reduceByKey(lambda v1,v2:v1+v2)\n",
    "month_precipitationSum = month_precipitationSum.map(lambda x:(x[0][1],tuple([x[0][0],x[1]])))\n",
    "# print(*month_precipitationSum.take(10),sep=\"\\n\")\n",
    "\n",
    "######### join by station-number\n",
    "month_precipitationSum = month_precipitationSum.join(stationNum)\n",
    "print(*month_precipitationSum.take(10),sep=\"\\n\")\n",
    "\n",
    "month_precipitationSum = month_precipitationSum.map(lambda x:(x[1][0][0],(x[1][0][1],1)) )\n",
    "\n",
    "######### reduce by date, get the summation of temperatures with #stations\n",
    "month_precipitation = month_precipitationSum.reduceByKey(lambda v1,v2:(v1[0]+v2[0],v1[1]+v2[1]))\n",
    "print(*month_precipitation.take(10),sep=\"\\n\")"
   ]
  },
  {
   "cell_type": "code",
   "execution_count": 87,
   "metadata": {},
   "outputs": [
    {
     "name": "stdout",
     "output_type": "stream",
     "text": [
      "('1996', '10', 3.0)\n"
     ]
    }
   ],
   "source": [
    "aveprec = month_precipitation.map( lambda x: (x[0][0:4],x[0][5:7],round(x[1][0]/x[1][1],2)) )\n",
    "print(*aveprec.take(10),sep=\"\\n\")\n",
    "\n",
    "# aveprec.saveAsTextFile(\"aveprec\")"
   ]
  }
 ],
 "metadata": {
  "kernelspec": {
   "display_name": "Python 3",
   "language": "python",
   "name": "python3"
  },
  "language_info": {
   "codemirror_mode": {
    "name": "ipython",
    "version": 3
   },
   "file_extension": ".py",
   "mimetype": "text/x-python",
   "name": "python",
   "nbconvert_exporter": "python",
   "pygments_lexer": "ipython3",
   "version": "3.7.3"
  }
 },
 "nbformat": 4,
 "nbformat_minor": 2
}
