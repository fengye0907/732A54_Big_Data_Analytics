{
 "cells": [
  {
   "cell_type": "code",
   "execution_count": 35,
   "metadata": {},
   "outputs": [
    {
     "name": "stdout",
     "output_type": "stream",
     "text": [
      "('2013', '11', '102170', -0.05)\n",
      "('2013', '12', '102170', 0.71)\n",
      "('2014', '04', '102170', 4.78)\n",
      "('2014', '07', '102170', 19.66)\n",
      "('2014', '10', '102170', 7.11)\n",
      "('2014', '11', '102170', 2.53)\n",
      "('1960', '03', '102190', -2.28)\n",
      "('1960', '07', '102190', 14.21)\n",
      "('1960', '10', '102190', 2.09)\n",
      "('1960', '11', '102190', -0.43)\n",
      "('1960', '12', '102190', -2.43)\n",
      "('1961', '04', '102190', 4.51)\n",
      "('1961', '05', '102190', 10.59)\n",
      "('2014', '05', '102150', 40.0)\n",
      "('2014', '05', '102130', 32.0)\n",
      "('2014', '01', '102170', -4.11)\n",
      "('2014', '02', '102170', 0.67)\n",
      "('2014', '03', '102170', 1.9)\n",
      "('2014', '05', '102170', 10.76)\n",
      "('2014', '06', '102170', 14.44)\n",
      "('2014', '08', '102170', 13.87)\n",
      "('2014', '09', '102170', 8.58)\n",
      "('2014', '12', '102170', -5.8)\n",
      "('1960', '01', '102190', -6.95)\n",
      "('1960', '02', '102190', -9.62)\n",
      "('1960', '04', '102190', 2.51)\n",
      "('1960', '05', '102190', 10.77)\n",
      "('1960', '06', '102190', 15.66)\n",
      "('1960', '08', '102190', 13.41)\n",
      "('1960', '09', '102190', 9.37)\n"
     ]
    }
   ],
   "source": [
    "###Q3 final\n",
    "sc.stop()\n",
    "from pyspark import SparkContext\n",
    "sc = SparkContext(appName=\"exercise\")\n",
    "\n",
    "# read csv file\n",
    "temperature_file=sc.textFile(\"temperature-readings-tiny.csv\")\n",
    "lines = temperature_file.map(lambda line:line.split(\";\"))\n",
    "\n",
    "# map necessary keys and values\n",
    "# (year-month, temperature), stationNumber\n",
    "year_temperature = lines.map(lambda x:(x[1][0:7],float(x[3]),x[0]))\n",
    "year_temperature = year_temperature.filter(lambda x: int(x[0][0:4])>=1960 and int(x[0][0:4])<=2014)\n",
    "\n",
    "# (year-month, stationNumber), #readings\n",
    "countSource = year_temperature.map(lambda x:((x[0],x[2]),1))\n",
    "counts=countSource.reduceByKey(lambda x,y: x+y)\n",
    "# print(*unique.take(10), sep=\"\\n\")\n",
    "\n",
    "# (year-month, stationNumber), tempSum\n",
    "temperature = year_temperature.map(lambda x:((x[0],x[2]),x[1]))\n",
    "tempSum=temperature.reduceByKey(lambda v1,v2:v1+v2)\n",
    "# print(*tempSum.take(10), sep=\"\\n\")\n",
    "\n",
    "# (year, month, stationNumber, TempAve)\n",
    "aveSource=tempSum.join(counts)\n",
    "aveTemp=aveSource.map(lambda x:(x[0][0][0:4],x[0][0][5:7],x[0][1],round(x[1][0]/x[1][1],2)))\n",
    "print(*aveTemp.take(30),sep=\"\\n\")\n",
    "\n",
    "# averagetemp.saveAsTextFile(\"aveTemp\")"
   ]
  }
 ],
 "metadata": {
  "kernelspec": {
   "display_name": "Python 3",
   "language": "python",
   "name": "python3"
  },
  "language_info": {
   "codemirror_mode": {
    "name": "ipython",
    "version": 3
   },
   "file_extension": ".py",
   "mimetype": "text/x-python",
   "name": "python",
   "nbconvert_exporter": "python",
   "pygments_lexer": "ipython3",
   "version": "3.7.3"
  }
 },
 "nbformat": 4,
 "nbformat_minor": 2
}
