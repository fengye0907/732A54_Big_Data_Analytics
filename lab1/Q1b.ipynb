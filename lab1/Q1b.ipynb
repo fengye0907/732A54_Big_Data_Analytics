{
 "cells": [
  {
   "cell_type": "code",
   "execution_count": 23,
   "metadata": {},
   "outputs": [],
   "source": [
    "import csv\n",
    "with open(\"temperature-readings-tiny.csv\",\"r\") as csvFile:\n",
    "    reader = csv.reader(csvFile,delimiter=';')\n",
    "    data = [(row[1][0:4],(float(row[3]),row[0])) for row in reader if int(row[1][0:4])>=1950 and int(row[1][0:4])<=2014]\n",
    "\n",
    "# year = range(1950,2015)\n",
    "year = (2013,1961,1955,1957,1956,1958,1959,1960,2014)\n",
    "# data"
   ]
  },
  {
   "cell_type": "code",
   "execution_count": 24,
   "metadata": {},
   "outputs": [
    {
     "data": {
      "text/plain": [
       "[(2014, (40.0, '102150')),\n",
       " (1960, (29.0, '102190')),\n",
       " (1959, (28.2, '102190')),\n",
       " (1958, (28.1, '102190')),\n",
       " (1956, (26.0, '102190')),\n",
       " (1957, (25.2, '102190')),\n",
       " (1955, (20.4, '102190')),\n",
       " (1961, (19.0, '102190')),\n",
       " (2013, (10.2, '102170'))]"
      ]
     },
     "execution_count": 24,
     "metadata": {},
     "output_type": "execute_result"
    }
   ],
   "source": [
    "max_temperature = []\n",
    "for j in range(len(year)):\n",
    "#     data_temp is all temperatures for a specific year\n",
    "    data_temp = [x[1] for x in data if int(x[0])==year[j]]\n",
    "    maxValue = data_temp[0][0]\n",
    "    maxIndex = 0\n",
    "    for i in range(len(data_temp)-1):\n",
    "        tempIndex = i+1\n",
    "        if(data_temp[tempIndex][0]>maxValue):\n",
    "            maxValue = data_temp[tempIndex][0]\n",
    "            maxIndex = tempIndex\n",
    "#             add the station number and temperature for a specific year\n",
    "    max_temperature.append( (maxValue,data_temp[maxIndex][1]) )\n",
    "    \n",
    "max_temperatureSorted = sorted(dict(zip(year, max_temperature)).items(), key = lambda x:x[1][0], reverse = True)\n",
    "max_temperatureSorted"
   ]
  },
  {
   "cell_type": "code",
   "execution_count": 26,
   "metadata": {},
   "outputs": [
    {
     "data": {
      "text/plain": [
       "[(2013, (-13.3, '102170')),\n",
       " (1957, (-19.9, '102190')),\n",
       " (1959, (-23.2, '102190')),\n",
       " (1961, (-23.5, '102190')),\n",
       " (2014, (-24.3, '102170')),\n",
       " (1955, (-26.2, '102190')),\n",
       " (1958, (-27.9, '102190')),\n",
       " (1960, (-28.3, '102190')),\n",
       " (1956, (-30.0, '102190'))]"
      ]
     },
     "execution_count": 26,
     "metadata": {},
     "output_type": "execute_result"
    }
   ],
   "source": [
    "min_temperature = []\n",
    "for j in range(len(year)):\n",
    "#     data_temp is all temperatures for a specific year\n",
    "    data_temp = [x[1] for x in data if int(x[0])==year[j]]\n",
    "    minValue = data_temp[0][0]\n",
    "    minIndex = 0\n",
    "    for i in range(len(data_temp)-1):\n",
    "        tempIndex = i+1\n",
    "        if(data_temp[tempIndex][0]<minValue):\n",
    "            minValue = data_temp[tempIndex][0]\n",
    "            minIndex = tempIndex\n",
    "#             add the station number and temperature for a specific year\n",
    "    min_temperature.append( (minValue,data_temp[minIndex][1]) )\n",
    "    \n",
    "min_temperatureSorted = sorted(dict(zip(year, min_temperature)).items(), key = lambda x:x[1][0], reverse = True)\n",
    "min_temperatureSorted"
   ]
  }
 ],
 "metadata": {
  "kernelspec": {
   "display_name": "Python 3",
   "language": "python",
   "name": "python3"
  },
  "language_info": {
   "codemirror_mode": {
    "name": "ipython",
    "version": 3
   },
   "file_extension": ".py",
   "mimetype": "text/x-python",
   "name": "python",
   "nbconvert_exporter": "python",
   "pygments_lexer": "ipython3",
   "version": "3.7.3"
  }
 },
 "nbformat": 4,
 "nbformat_minor": 2
}
