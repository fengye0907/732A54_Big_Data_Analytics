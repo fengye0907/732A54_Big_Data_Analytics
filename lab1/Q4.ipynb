{
 "cells": [
  {
   "cell_type": "code",
   "execution_count": 22,
   "metadata": {},
   "outputs": [],
   "source": [
    "###Q4 final\n",
    "sc.stop()\n",
    "from pyspark import SparkContext\n",
    "sc = SparkContext(appName=\"exercise\")\n",
    "def max_temperature(a,b):\n",
    "    if a>=b:\n",
    "        return a\n",
    "    else:\n",
    "        return b\n",
    "    \n",
    "precipitation_file=sc.textFile(\"precipitation-readings-tiny.csv\")\n",
    "linesp = precipitation_file.map(lambda line:line.split(\";\"))\n",
    "\n",
    "temperature_file=sc.textFile(\"temperature-readings-tiny.csv\")\n",
    "linest = temperature_file.map(lambda line:line.split(\";\"))"
   ]
  },
  {
   "cell_type": "code",
   "execution_count": 25,
   "metadata": {},
   "outputs": [
    {
     "name": "stdout",
     "output_type": "stream",
     "text": [
      "(('103100', '1996'), 13.4)\n",
      "(('103100', '1995'), 7.1)\n",
      "(('102170', '2013'), 101.0)\n",
      "\n"
     ]
    }
   ],
   "source": [
    "temperatures = linest.map(lambda x:((x[0],x[1][0:4]),float(x[3])))\n",
    "precipitations = linesp.map(lambda x:((x[0],x[1][0:4]),float(x[3])))\n",
    "\n",
    "max_temperatures = temperatures.reduceByKey(max_temperature)  # for each year\n",
    "max_precipitations = precipitations.reduceByKey(max_temperature)\n",
    "print(*max_precipitations.take(10), sep=\"\\n\")\n",
    "\n",
    "station = max_temperatures.join(max_precipitations)\n",
    "print(*station.take(10), sep=\"\\n\")\n",
    "\n",
    "station = station.filter(lambda x: x[1][0]>=25 and x[1][0]<=30 and x[1][1]>=100 and x[1][1]<=200)\n",
    "station = station.map(lambda x:(x[0],x[1][0],x[1][1]))\n",
    "print(*station.take(10), sep=\"\\n\")\n",
    "\n",
    "# station.saveAsTextFile(\"station\")"
   ]
  }
 ],
 "metadata": {
  "kernelspec": {
   "display_name": "Python 3",
   "language": "python",
   "name": "python3"
  },
  "language_info": {
   "codemirror_mode": {
    "name": "ipython",
    "version": 3
   },
   "file_extension": ".py",
   "mimetype": "text/x-python",
   "name": "python",
   "nbconvert_exporter": "python",
   "pygments_lexer": "ipython3",
   "version": "3.7.3"
  }
 },
 "nbformat": 4,
 "nbformat_minor": 2
}
